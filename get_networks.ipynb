{
 "cells": [
  {
   "cell_type": "markdown",
   "metadata": {},
   "source": [
    "### Making follower networks from Bluesky\n",
    "\n",
    "We are going to use Bluesky to create an ego network of your account. We will get all of the followers and following of your account, and then we will get the followers and following of those accounts. This will create a network of your account and the accounts that are connected to it.\n",
    "\n",
    "We will then visualize the network using `ggraph`."
   ]
  },
  {
   "cell_type": "code",
   "execution_count": null,
   "metadata": {},
   "outputs": [],
   "source": [
    "from atproto import Client\n",
    "import config\n",
    "import json\n",
    "import time\n",
    "\n",
    "\n",
    "def get_all_follows(client, handle):\n",
    "    \"\"\"\n",
    "    Get all of the users that the given handle follows.\n",
    "    \"\"\"\n",
    "    following = []\n",
    "    next_cursor = None\n",
    "    while True:\n",
    "        response = client.get_follows(handle, limit=100, cursor=next_cursor)\n",
    "        following.extend(response.follows)\n",
    "        if not response.cursor:\n",
    "            break\n",
    "        next_cursor = response.cursor\n",
    "    return following\n",
    "\n",
    "def make_network_from_following(following_dict):\n",
    "    \"\"\"\n",
    "    Take a dictionary of users and their following lists and create a graph.\n",
    "    The graph is a list of tuples, where each tuple is (user, followed_user).\n",
    "    \"\"\"\n",
    "    following_graph = []\n",
    "    for user, following in following_dict.items():\n",
    "        for follow in following:\n",
    "            if follow in following_dict:\n",
    "                following_graph.append((user, follow))\n",
    "    return following_graph\n",
    "\n",
    "\n",
    "def main(username) -> None:\n",
    "    # Create a client and login\n",
    "    at_client = Client()\n",
    "    at_client.login(config.username, config.password)\n",
    "    # Get the followers and following of the username\n",
    "    # Get all of the accounts the user follows\n",
    "    following = get_all_follows(at_client, user_to_analyze)\n",
    "    # For each of those accounts, get their followers\n",
    "    following_dict = {}\n",
    "    for user in following:\n",
    "        curr_user_following = get_all_follows(at_client, user['handle'])\n",
    "        following_dict[user['handle']] = set([x['handle'] for x in curr_user_following])\n",
    "        # Sleep for a second to be a good citizen\n",
    "        time.sleep(1)\n",
    "    # Create a graph from the following dictionary\n",
    "    following_graph = make_network_from_following(following_dict)\n",
    "    with open('following_graph.csv', 'w') as f:\n",
    "        f.write('from,to\\n')\n",
    "        for user, following in following_graph:\n",
    "            f.write(f'{user},{following}\\n')"
   ]
  },
  {
   "cell_type": "code",
   "execution_count": null,
   "metadata": {},
   "outputs": [],
   "source": [
    "main('jeremydfoote.com')"
   ]
  }
 ],
 "metadata": {
  "kernelspec": {
   "display_name": "teaching",
   "language": "python",
   "name": "python3"
  },
  "language_info": {
   "codemirror_mode": {
    "name": "ipython",
    "version": 3
   },
   "file_extension": ".py",
   "mimetype": "text/x-python",
   "name": "python",
   "nbconvert_exporter": "python",
   "pygments_lexer": "ipython3",
   "version": "3.9.19"
  }
 },
 "nbformat": 4,
 "nbformat_minor": 2
}
